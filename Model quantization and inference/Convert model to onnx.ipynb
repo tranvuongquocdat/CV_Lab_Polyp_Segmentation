{
 "cells": [
  {
   "cell_type": "code",
   "execution_count": 1,
   "metadata": {},
   "outputs": [
    {
     "name": "stdout",
     "output_type": "stream",
     "text": [
      "WARNING:tensorflow:Compiled the loaded model, but the compiled metrics have yet to be built. `model.compile_metrics` will be empty until you train or evaluate the model.\n"
     ]
    },
    {
     "name": "stderr",
     "output_type": "stream",
     "text": [
      "WARNING:absl:Found untraced functions such as _jit_compiled_convolution_op, _jit_compiled_convolution_op, _jit_compiled_convolution_op, _jit_compiled_convolution_op, _jit_compiled_convolution_op while saving (showing 5 of 48). These functions will not be directly callable after loading.\n"
     ]
    },
    {
     "name": "stdout",
     "output_type": "stream",
     "text": [
      "INFO:tensorflow:Assets written to: pol\\assets\n"
     ]
    },
    {
     "name": "stderr",
     "output_type": "stream",
     "text": [
      "INFO:tensorflow:Assets written to: pol\\assets\n",
      "c:\\Users\\PC\\AppData\\Local\\Programs\\Python\\Python310\\lib\\runpy.py:126: RuntimeWarning: 'tf2onnx.convert' found in sys.modules after import of package 'tf2onnx', but prior to execution of 'tf2onnx.convert'; this may result in unpredictable behaviour\n",
      "  warn(RuntimeWarning(msg))\n",
      "2023-03-12 03:04:58,266 - WARNING - '--tag' not specified for saved_model. Using --tag serve\n",
      "2023-03-12 03:05:01,199 - INFO - Signatures found in model: [serving_default].\n",
      "2023-03-12 03:05:01,199 - WARNING - '--signature_def' not specified, using first signature: serving_default\n",
      "2023-03-12 03:05:01,200 - INFO - Output names: ['softmax']\n",
      "WARNING:tensorflow:From c:\\Users\\PC\\AppData\\Local\\Programs\\Python\\Python310\\lib\\site-packages\\tf2onnx\\tf_loader.py:715: extract_sub_graph (from tensorflow.python.framework.graph_util_impl) is deprecated and will be removed in a future version.\n",
      "Instructions for updating:\n",
      "Use `tf.compat.v1.graph_util.extract_sub_graph`\n",
      "2023-03-12 03:05:02,928 - WARNING - From c:\\Users\\PC\\AppData\\Local\\Programs\\Python\\Python310\\lib\\site-packages\\tf2onnx\\tf_loader.py:715: extract_sub_graph (from tensorflow.python.framework.graph_util_impl) is deprecated and will be removed in a future version.\n",
      "Instructions for updating:\n",
      "Use `tf.compat.v1.graph_util.extract_sub_graph`\n",
      "2023-03-12 03:05:04,080 - INFO - Using tensorflow=2.10.0, onnx=1.12.0, tf2onnx=1.12.1/b6d590\n",
      "2023-03-12 03:05:04,080 - INFO - Using opset <onnx, 13>\n",
      "2023-03-12 03:05:04,836 - INFO - Computed 0 values for constant folding\n",
      "2023-03-12 03:05:05,745 - INFO - Optimizing ONNX model\n",
      "2023-03-12 03:05:08,823 - INFO - After optimization: BatchNormalization -26 (45->19), Cast -5 (5->0), Const -100 (260->160), Identity -2 (2->0), Transpose -196 (198->2)\n",
      "2023-03-12 03:05:08,979 - INFO - \n",
      "2023-03-12 03:05:08,979 - INFO - Successfully converted TensorFlow model pol to ONNX\n",
      "2023-03-12 03:05:08,979 - INFO - Model inputs: ['data']\n",
      "2023-03-12 03:05:08,979 - INFO - Model outputs: ['softmax']\n",
      "2023-03-12 03:05:08,979 - INFO - ONNX model is saved at polyp_unet_temp.onnx\n"
     ]
    }
   ],
   "source": [
    "#parameters\n",
    "source_model = 'best2.h5'\n",
    "model_name = \"best2.onnx\"\n",
    "BATCH_SIZE = 1\n",
    "\n",
    "#Convert from keras tensorflow to ONNX\n",
    "from keras.models import load_model \n",
    "model = load_model(source_model, compile = False)\n",
    "\n",
    "#convert model from h5 to onnx_model\n",
    "import onnx\n",
    "import tf2onnx\n",
    "\n",
    "model.save('pol')\n",
    "!python -m tf2onnx.convert --saved-model pol --output polyp_unet_temp.onnx\n",
    "onnx_model = onnx.load_model('polyp_unet_temp.onnx')\n",
    "\n",
    "#Set an explicit batch size in the ONNX file\n",
    "\n",
    "inputs = onnx_model.graph.input\n",
    "for input in inputs:\n",
    "    dim1 = input.type.tensor_type.shape.dim[0]\n",
    "    dim1.dim_value = BATCH_SIZE\n",
    "\n",
    "#Save the ONNX file\n",
    "\n",
    "onnx.save_model(onnx_model, model_name)\n",
    "\n",
    "#delete temporary file\n",
    "import os\n",
    "import shutil\n",
    "\n",
    "#delete folder pol\n",
    "shutil.rmtree(\"pol\")\n",
    "\n",
    "#delete file polyp_unet_temp\n",
    "os.remove(\"polyp_unet_temp.onnx\")"
   ]
  },
  {
   "cell_type": "code",
   "execution_count": 1,
   "metadata": {},
   "outputs": [
    {
     "name": "stdout",
     "output_type": "stream",
     "text": [
      "Segmentation Models: using `keras` framework.\n"
     ]
    }
   ],
   "source": [
    "#using with .hdf5 file\n",
    "#Load model\n",
    "#Test with real_video\n",
    "import matplotlib.pyplot as plt\n",
    "import os\n",
    "import random\n",
    "import time\n",
    "\n",
    "import tensorflow as tf\n",
    "import cv2\n",
    "import numpy as np\n",
    "import imutils\n",
    "\n",
    "from segmentation_models.metrics import iou_score\n",
    "from segmentation_models import Unet\n",
    "import segmentation_models as sm\n",
    "\n",
    "#set parameters\n",
    "source_model = \"best2.hdf5\"\n",
    "model_name = \"polyp_unet_2.onnx\"\n",
    "BATCH_SIZE = 1\n",
    "\n",
    "sm.set_framework(\"tf.keras\")\n",
    "sm.framework()\n",
    "\n",
    "#Initialize parameters\n",
    "BACKBONE = \"resnet34\"\n",
    "preprocess_input = sm.get_preprocessing(BACKBONE)\n",
    "batch_size = 16\n",
    "w, h = 384, 384\n",
    "\n",
    "#initialize model\n",
    "opt=tf.keras.optimizers.Adam(0.001)\n",
    "model= Unet(BACKBONE,encoder_weights = \"imagenet\",classes = 3,activation=\"sigmoid\",input_shape = (w, h, 3),encoder_freeze = True)\n",
    "loss1 = sm.losses.categorical_focal_dice_loss\n",
    "\n",
    "model.compile(optimizer=opt,loss=loss1,metrics=[iou_score])\n",
    "\n",
    "model.load_weights(source_model)\n",
    "\n",
    "#convert Resnet50 from h5 to onnx_model\n",
    "import onnx\n",
    "import tf2onnx\n",
    "\n",
    "model.save('pol')\n",
    "!python -m tf2onnx.convert --saved-model pol --output polyp_unet_temp.onnx\n",
    "onnx_model = onnx.load_model('polyp_unet_temp.onnx')\n",
    "\n",
    "#Set an explicit batch size in the ONNX file\n",
    "\n",
    "inputs = onnx_model.graph.input\n",
    "for input in inputs:\n",
    "    dim1 = input.type.tensor_type.shape.dim[0]\n",
    "    dim1.dim_value = BATCH_SIZE\n",
    "\n",
    "#Save the ONNX file\n",
    "\n",
    "onnx.save_model(onnx_model, model_name)\n",
    "\n",
    "#delete temporary file\n",
    "import os\n",
    "import shutil\n",
    "\n",
    "#delete folder pol\n",
    "shutil.rmtree(\"pol\")\n",
    "\n",
    "#delete file polyp_unet_temp\n",
    "os.remove(\"polyp_unet_temp.onnx\")"
   ]
  },
  {
   "cell_type": "code",
   "execution_count": 6,
   "metadata": {},
   "outputs": [
    {
     "name": "stderr",
     "output_type": "stream",
     "text": [
      "c:\\Users\\PC\\AppData\\Local\\Programs\\Python\\Python310\\lib\\site-packages\\torchvision\\models\\_utils.py:208: UserWarning: The parameter 'pretrained' is deprecated since 0.13 and will be removed in 0.15, please use 'weights' instead.\n",
      "  warnings.warn(\n",
      "c:\\Users\\PC\\AppData\\Local\\Programs\\Python\\Python310\\lib\\site-packages\\torchvision\\models\\_utils.py:223: UserWarning: Arguments other than a weight enum or `None` for 'weights' are deprecated since 0.13 and will be removed in 0.15. The current behavior is equivalent to passing `weights=ResNeXt50_32X4D_Weights.IMAGENET1K_V1`. You can also use `weights=ResNeXt50_32X4D_Weights.DEFAULT` to get the most up-to-date weights.\n",
      "  warnings.warn(msg)\n"
     ]
    }
   ],
   "source": [
    "#convert pytorch to ONNX\n",
    "\n",
    "#import resnet model\n",
    "import torchvision.models as models\n",
    "\n",
    "resnext50_32x4d = models.resnext50_32x4d(pretrained=True)\n",
    "\n",
    "#save ONNX file from pytorch\n",
    "import torch\n",
    "\n",
    "BATCH_SIZE = 64\n",
    "dummy_input=torch.randn(BATCH_SIZE, 3, 224, 224)\n",
    "\n",
    "#Save ONNX file\n",
    "import torch.onnx\n",
    "torch.onnx.export(resnext50_32x4d, dummy_input, \"resnet50_onnx_model(from Pytorch).onnx\", verbose=False)"
   ]
  },
  {
   "cell_type": "code",
   "execution_count": 9,
   "metadata": {},
   "outputs": [
    {
     "ename": "NameError",
     "evalue": "name 'TheModelClass' is not defined",
     "output_type": "error",
     "traceback": [
      "\u001b[1;31m---------------------------------------------------------------------------\u001b[0m",
      "\u001b[1;31mNameError\u001b[0m                                 Traceback (most recent call last)",
      "Cell \u001b[1;32mIn [9], line 5\u001b[0m\n\u001b[0;32m      3\u001b[0m \u001b[39mimport\u001b[39;00m \u001b[39mtorch\u001b[39;00m\n\u001b[0;32m      4\u001b[0m \u001b[39m#load model\u001b[39;00m\n\u001b[1;32m----> 5\u001b[0m model \u001b[39m=\u001b[39m TheModelClass(\u001b[39m*\u001b[39margs, \u001b[39m*\u001b[39m\u001b[39m*\u001b[39mkwargs)\n\u001b[0;32m      6\u001b[0m model\u001b[39m.\u001b[39mload_state_dict(torch\u001b[39m.\u001b[39mload(\u001b[39m'\u001b[39m\u001b[39mbest.pt\u001b[39m\u001b[39m'\u001b[39m))\n\u001b[0;32m      9\u001b[0m BATCH_SIZE \u001b[39m=\u001b[39m \u001b[39m64\u001b[39m\n",
      "\u001b[1;31mNameError\u001b[0m: name 'TheModelClass' is not defined"
     ]
    }
   ],
   "source": [
    "#convert pytorch to ONNX\n",
    "\n",
    "import torch\n",
    "#load model\n",
    "model = TheModelClass(*args, **kwargs)\n",
    "model.load_state_dict(torch.load('best.pt'))\n",
    "\n",
    "\n",
    "BATCH_SIZE = 64\n",
    "dummy_input=torch.randn(BATCH_SIZE, 3, 224, 224)\n",
    "\n",
    "#Save ONNX file\n",
    "import torch.onnx\n",
    "torch.onnx.export(model, dummy_input, \"traffic_sign_from_yolo.onnx\", verbose=False)"
   ]
  }
 ],
 "metadata": {
  "kernelspec": {
   "display_name": "Python 3.10.7 64-bit",
   "language": "python",
   "name": "python3"
  },
  "language_info": {
   "codemirror_mode": {
    "name": "ipython",
    "version": 3
   },
   "file_extension": ".py",
   "mimetype": "text/x-python",
   "name": "python",
   "nbconvert_exporter": "python",
   "pygments_lexer": "ipython3",
   "version": "3.10.7"
  },
  "orig_nbformat": 4,
  "vscode": {
   "interpreter": {
    "hash": "e593ac106456af50ce7af38f9671c411b49d6cd90f9b885e167f0f594e09038c"
   }
  }
 },
 "nbformat": 4,
 "nbformat_minor": 2
}
